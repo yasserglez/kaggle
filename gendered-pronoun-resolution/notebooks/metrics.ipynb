{
 "cells": [
  {
   "cell_type": "code",
   "execution_count": 1,
   "metadata": {},
   "outputs": [],
   "source": [
    "import sys\n",
    "from pathlib import Path\n",
    "\n",
    "import numpy as np\n",
    "import pandas as pd\n",
    "from sklearn.metrics import confusion_matrix, classification_report\n",
    "\n",
    "%matplotlib inline\n",
    "import seaborn as sns\n",
    "import matplotlib.pyplot as plt\n",
    "\n",
    "sys.path.insert(0, '../')\n",
    "from data import load_train_val_examples, GAPLabel"
   ]
  },
  {
   "cell_type": "code",
   "execution_count": 2,
   "metadata": {},
   "outputs": [
    {
     "name": "stderr",
     "output_type": "stream",
     "text": [
      "/home/yasserglez/.pyenv/versions/3.7.2/envs/gendered-pronoun-resolution/lib/python3.7/site-packages/sklearn/model_selection/_split.py:2179: FutureWarning: From version 0.21, test_size will always complement train_size unless both are specified.\n",
      "  FutureWarning)\n"
     ]
    }
   ],
   "source": [
    "model_dir = Path('../output/submission1/trial_1')\n",
    "\n",
    "train_examples, val_examples = load_train_val_examples(42)\n",
    "examples = {e.id: e for e in train_examples + val_examples}\n",
    "\n",
    "results = pd.read_csv(f'{model_dir}/val_predictions.csv')"
   ]
  },
  {
   "cell_type": "code",
   "execution_count": 3,
   "metadata": {},
   "outputs": [
    {
     "data": {
      "text/plain": [
       "count    446.000000\n",
       "mean       0.322364\n",
       "std        0.709210\n",
       "min       -0.000000\n",
       "25%       -0.000000\n",
       "50%        0.067184\n",
       "75%        0.209600\n",
       "max        3.667005\n",
       "Name: LOSS, dtype: float64"
      ]
     },
     "execution_count": 3,
     "metadata": {},
     "output_type": "execute_result"
    }
   ],
   "source": [
    "results.LOSS.describe()"
   ]
  },
  {
   "cell_type": "code",
   "execution_count": 4,
   "metadata": {},
   "outputs": [],
   "source": [
    "labels = [l.name for l in GAPLabel]\n",
    "y_true = results.LABEL.values\n",
    "y_pred = [labels[i] for i in np.argmax(results[labels].values, axis=1)]"
   ]
  },
  {
   "cell_type": "code",
   "execution_count": 5,
   "metadata": {},
   "outputs": [
    {
     "data": {
      "image/png": "[encoded data removed]",
      "text/plain": [
       "<Figure size 432x288 with 2 Axes>"
      ]
     },
     "metadata": {
      "needs_background": "light"
     },
     "output_type": "display_data"
    }
   ],
   "source": [
    "matrix = pd.DataFrame(confusion_matrix(y_true, y_pred), index=labels, columns=labels)\n",
    "sns.heatmap(matrix, annot=True)\n",
    "plt.xlabel('Predicted')\n",
    "plt.ylabel('Expected');"
   ]
  },
  {
   "cell_type": "code",
   "execution_count": 6,
   "metadata": {
    "scrolled": false
   },
   "outputs": [
    {
     "name": "stdout",
     "output_type": "stream",
     "text": [
      "              precision    recall  f1-score   support\n",
      "\n",
      "           A       0.90      0.94      0.92       198\n",
      "           B       0.89      0.92      0.91       188\n",
      "     NEITHER       0.85      0.65      0.74        60\n",
      "\n",
      "   micro avg       0.89      0.89      0.89       446\n",
      "   macro avg       0.88      0.84      0.85       446\n",
      "weighted avg       0.89      0.89      0.89       446\n",
      "\n"
     ]
    }
   ],
   "source": [
    "print(classification_report(y_true, y_pred, labels=labels))"
   ]
  },
  {
   "cell_type": "code",
   "execution_count": 7,
   "metadata": {},
   "outputs": [],
   "source": [
    "PRONOUNS_GENDER = {'she': 'F', 'her': 'F', 'hers': 'F', 'he': 'M', 'him': 'M', 'his': 'M'}\n",
    "\n",
    "def get_gender(example_id):\n",
    "    example = examples[example_id]\n",
    "    pronoun = example.tokens[example.pronoun_index]\n",
    "    gender = PRONOUNS_GENDER[pronoun.lower()]\n",
    "    return gender\n",
    "\n",
    "results['GENDER'] = results['ID'].apply(get_gender)\n",
    "M_results = results[results['GENDER'] == 'M']\n",
    "F_results = results[results['GENDER'] == 'F']"
   ]
  },
  {
   "cell_type": "code",
   "execution_count": 8,
   "metadata": {},
   "outputs": [
    {
     "data": {
      "text/plain": [
       "<matplotlib.axes._subplots.AxesSubplot at 0x7feb19b15748>"
      ]
     },
     "execution_count": 8,
     "metadata": {},
     "output_type": "execute_result"
    },
    {
     "data": {
      "image/png": "[encoded data removed]",
      "text/plain": [
       "<Figure size 432x288 with 1 Axes>"
      ]
     },
     "metadata": {
      "needs_background": "light"
     },
     "output_type": "display_data"
    }
   ],
   "source": [
    "sns.boxplot(x='GENDER', y='LOSS', data=results)"
   ]
  },
  {
   "cell_type": "code",
   "execution_count": 9,
   "metadata": {},
   "outputs": [
    {
     "data": {
      "text/html": [
       "<div>\n",
       "<style scoped>\n",
       "    .dataframe tbody tr th:only-of-type {\n",
       "        vertical-align: middle;\n",
       "    }\n",
       "\n",
       "    .dataframe tbody tr th {\n",
       "        vertical-align: top;\n",
       "    }\n",
       "\n",
       "    .dataframe thead th {\n",
       "        text-align: right;\n",
       "    }\n",
       "</style>\n",
       "<table border=\"1\" class=\"dataframe\">\n",
       "  <thead>\n",
       "    <tr style=\"text-align: right;\">\n",
       "      <th></th>\n",
       "      <th>count</th>\n",
       "      <th>mean</th>\n",
       "      <th>std</th>\n",
       "      <th>min</th>\n",
       "      <th>25%</th>\n",
       "      <th>50%</th>\n",
       "      <th>75%</th>\n",
       "      <th>max</th>\n",
       "    </tr>\n",
       "    <tr>\n",
       "      <th>GENDER</th>\n",
       "      <th></th>\n",
       "      <th></th>\n",
       "      <th></th>\n",
       "      <th></th>\n",
       "      <th></th>\n",
       "      <th></th>\n",
       "      <th></th>\n",
       "      <th></th>\n",
       "    </tr>\n",
       "  </thead>\n",
       "  <tbody>\n",
       "    <tr>\n",
       "      <th>F</th>\n",
       "      <td>223.0</td>\n",
       "      <td>0.292766</td>\n",
       "      <td>0.651568</td>\n",
       "      <td>-0.0</td>\n",
       "      <td>-0.0</td>\n",
       "      <td>0.067081</td>\n",
       "      <td>0.192173</td>\n",
       "      <td>3.667005</td>\n",
       "    </tr>\n",
       "    <tr>\n",
       "      <th>M</th>\n",
       "      <td>223.0</td>\n",
       "      <td>0.351963</td>\n",
       "      <td>0.762839</td>\n",
       "      <td>-0.0</td>\n",
       "      <td>-0.0</td>\n",
       "      <td>0.067288</td>\n",
       "      <td>0.218737</td>\n",
       "      <td>3.589302</td>\n",
       "    </tr>\n",
       "  </tbody>\n",
       "</table>\n",
       "</div>"
      ],
      "text/plain": [
       "        count      mean       std  min  25%       50%       75%       max\n",
       "GENDER                                                                   \n",
       "F       223.0  0.292766  0.651568 -0.0 -0.0  0.067081  0.192173  3.667005\n",
       "M       223.0  0.351963  0.762839 -0.0 -0.0  0.067288  0.218737  3.589302"
      ]
     },
     "execution_count": 9,
     "metadata": {},
     "output_type": "execute_result"
    }
   ],
   "source": [
    "results.groupby('GENDER')['LOSS'].describe()"
   ]
  },
  {
   "cell_type": "code",
   "execution_count": 10,
   "metadata": {},
   "outputs": [
    {
     "data": {
      "text/plain": [
       "0.8318105812030369"
      ]
     },
     "execution_count": 10,
     "metadata": {},
     "output_type": "execute_result"
    }
   ],
   "source": [
    "M = M_results['LOSS'].mean()\n",
    "F = F_results['LOSS'].mean()\n",
    "F / M"
   ]
  },
  {
   "cell_type": "code",
   "execution_count": 11,
   "metadata": {},
   "outputs": [
    {
     "name": "stdout",
     "output_type": "stream",
     "text": [
      "              precision    recall  f1-score   support\n",
      "\n",
      "           A       0.89      0.92      0.90        92\n",
      "           B       0.89      0.93      0.91        98\n",
      "     NEITHER       0.84      0.64      0.72        33\n",
      "\n",
      "   micro avg       0.88      0.88      0.88       223\n",
      "   macro avg       0.87      0.83      0.85       223\n",
      "weighted avg       0.88      0.88      0.88       223\n",
      "\n"
     ]
    }
   ],
   "source": [
    "y_true = M_results.LABEL.values\n",
    "y_pred = [labels[i] for i in np.argmax(M_results[labels].values, axis=1)]\n",
    "print(classification_report(y_true, y_pred, labels=labels))"
   ]
  },
  {
   "cell_type": "code",
   "execution_count": 12,
   "metadata": {},
   "outputs": [
    {
     "name": "stdout",
     "output_type": "stream",
     "text": [
      "              precision    recall  f1-score   support\n",
      "\n",
      "           A       0.92      0.95      0.94       106\n",
      "           B       0.89      0.91      0.90        90\n",
      "     NEITHER       0.86      0.67      0.75        27\n",
      "\n",
      "   micro avg       0.90      0.90      0.90       223\n",
      "   macro avg       0.89      0.84      0.86       223\n",
      "weighted avg       0.90      0.90      0.90       223\n",
      "\n"
     ]
    }
   ],
   "source": [
    "y_true = F_results.LABEL.values\n",
    "y_pred = [labels[i] for i in np.argmax(F_results[labels].values, axis=1)]\n",
    "print(classification_report(y_true, y_pred, labels=labels))"
   ]
  }
 ],
 "metadata": {
  "kernelspec": {
   "display_name": "Python 3",
   "language": "python",
   "name": "python3"
  },
  "language_info": {
   "codemirror_mode": {
    "name": "ipython",
    "version": 3
   },
   "file_extension": ".py",
   "mimetype": "text/x-python",
   "name": "python",
   "nbconvert_exporter": "python",
   "pygments_lexer": "ipython3",
   "version": "3.7.2"
  }
 },
 "nbformat": 4,
 "nbformat_minor": 2
}
